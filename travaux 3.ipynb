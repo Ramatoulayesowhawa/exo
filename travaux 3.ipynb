{
 "cells": [
  {
   "cell_type": "markdown",
   "id": "2a80d119",
   "metadata": {},
   "source": [
    "# exo 1"
   ]
  },
  {
   "cell_type": "code",
   "execution_count": 1,
   "id": "e77961af",
   "metadata": {},
   "outputs": [
    {
     "name": "stdout",
     "output_type": "stream",
     "text": [
      "40\n",
      "pprenants de APD sont itelligents \n"
     ]
    }
   ],
   "source": [
    "ch=\" les apprenants de APD sont itelligents \"\n",
    "for i in range (1):\n",
    "    print(len(ch))\n",
    "    print(ch[6:41])"
   ]
  },
  {
   "cell_type": "markdown",
   "id": "85f24b70",
   "metadata": {},
   "source": [
    "# exo 3"
   ]
  },
  {
   "cell_type": "code",
   "execution_count": 10,
   "id": "fda64de4",
   "metadata": {},
   "outputs": [
    {
     "name": "stdout",
     "output_type": "stream",
     "text": [
      "a\n",
      "u\n",
      "o\n",
      "i\n",
      "y\n"
     ]
    }
   ],
   "source": [
    "def voyelle():\n",
    "    voyelle=[\"a\",\"u\",\"o\",\"i\",\"y\"]\n",
    "    for i in voyelle:\n",
    "        print(i)\n",
    "voyelle()"
   ]
  },
  {
   "cell_type": "markdown",
   "id": "15f5f45d",
   "metadata": {},
   "source": [
    "# exo 4"
   ]
  },
  {
   "cell_type": "code",
   "execution_count": 2,
   "id": "d2adcd36",
   "metadata": {},
   "outputs": [
    {
     "name": "stdout",
     "output_type": "stream",
     "text": [
      "liste est :['IOT', 'DBE', 'APD', 'GDE']\n",
      "liste actuel est : ['IOT', 'DBE', 'l impossible n est pas APD', 'GDE']\n"
     ]
    }
   ],
   "source": [
    "liste=['IOT','DBE','APD','GDE']\n",
    "print(\"liste est :\" +str(liste))\n",
    "res=[elem.replace('APD',\"l impossible n est pas APD\")for elem in liste]\n",
    "print(\"liste actuel est : \" + str(res))"
   ]
  },
  {
   "cell_type": "markdown",
   "id": "253186fc",
   "metadata": {},
   "source": [
    "# exo 5"
   ]
  },
  {
   "cell_type": "code",
   "execution_count": 10,
   "id": "07b6e510",
   "metadata": {},
   "outputs": [
    {
     "name": "stdout",
     "output_type": "stream",
     "text": [
      "la liste des entiers pairs est: [2, 4, 6, 8, 10]\n",
      "la liste des entiers impairs est: [1, 3, 5, 7, 9]\n",
      "None\n"
     ]
    }
   ],
   "source": [
    "def extract(l):\n",
    "    pair=[]\n",
    "    impair=[]\n",
    "    for x in l:\n",
    "        if x%2==0:\n",
    "            pair.append(x)\n",
    "        else:\n",
    "            impair.append(x)\n",
    "    print (\"la liste des entiers pairs est:\",pair)\n",
    "    print(\"la liste des entiers impairs est:\" ,impair)\n",
    "l=[1,2,3,4,5,6,7,8,9,10]\n",
    "print(extract(l))\n",
    "            "
   ]
  },
  {
   "cell_type": "markdown",
   "id": "d495f2f0",
   "metadata": {},
   "source": [
    "# exo 6"
   ]
  },
  {
   "cell_type": "code",
   "execution_count": 9,
   "id": "3b1e4292",
   "metadata": {},
   "outputs": [
    {
     "name": "stdout",
     "output_type": "stream",
     "text": [
      "5\n"
     ]
    }
   ],
   "source": [
    "def elememt():\n",
    "    min(element)\n",
    "element=[23,5,6,12,9,8,7,64,56,78]\n",
    "print(min(element))"
   ]
  },
  {
   "cell_type": "markdown",
   "id": "2c9554c3",
   "metadata": {},
   "source": [
    "# exo 7"
   ]
  },
  {
   "cell_type": "code",
   "execution_count": null,
   "id": "a4200153",
   "metadata": {},
   "outputs": [],
   "source": []
  },
  {
   "cell_type": "code",
   "execution_count": 5,
   "id": "d3b0e321",
   "metadata": {
    "scrolled": true
   },
   "outputs": [
    {
     "name": "stdout",
     "output_type": "stream",
     "text": [
      "7\n",
      "96\n"
     ]
    }
   ],
   "source": [
    "def nombre():\n",
    "    min(nombre)\n",
    "    max (nombre)\n",
    "nombre=[12,8,7,35,67,19,27,10,11,71,96,42]\n",
    "print(min(nombre))\n",
    "print(max(nombre))"
   ]
  },
  {
   "cell_type": "markdown",
   "id": "4f39518d",
   "metadata": {},
   "source": [
    "# exo 8"
   ]
  },
  {
   "cell_type": "code",
   "execution_count": 8,
   "id": "9279b7a8",
   "metadata": {},
   "outputs": [
    {
     "name": "stdout",
     "output_type": "stream",
     "text": [
      "l=  [7, 14, 21, 28, 35, 42, 49, 56, 63, 70, 77, 84, 91, 98]\n"
     ]
    }
   ],
   "source": [
    "l=[]\n",
    "i=1\n",
    "while i<100:\n",
    "    i+=1\n",
    "    if i%7==0:\n",
    "        l.append(i)\n",
    "print(\"l= \",l)"
   ]
  },
  {
   "cell_type": "markdown",
   "id": "0eeebcf4",
   "metadata": {},
   "source": [
    "# exo 9"
   ]
  },
  {
   "cell_type": "code",
   "execution_count": 11,
   "id": "fb5ced17",
   "metadata": {},
   "outputs": [
    {
     "name": "stdout",
     "output_type": "stream",
     "text": [
      "['devoir', 'a', 'rendre', 'lundi']\n"
     ]
    }
   ],
   "source": [
    "str=\"devoir a rendre lundi\"\n",
    "print(str.split())"
   ]
  },
  {
   "cell_type": "code",
   "execution_count": null,
   "id": "26d36822",
   "metadata": {},
   "outputs": [],
   "source": []
  }
 ],
 "metadata": {
  "kernelspec": {
   "display_name": "Python 3",
   "language": "python",
   "name": "python3"
  },
  "language_info": {
   "codemirror_mode": {
    "name": "ipython",
    "version": 3
   },
   "file_extension": ".py",
   "mimetype": "text/x-python",
   "name": "python",
   "nbconvert_exporter": "python",
   "pygments_lexer": "ipython3",
   "version": "3.8.8"
  }
 },
 "nbformat": 4,
 "nbformat_minor": 5
}
